{
 "cells": [
  {
   "cell_type": "code",
   "execution_count": null,
   "id": "d962226b-0c3a-4ecc-bfa8-d120b289b4b3",
   "metadata": {},
   "outputs": [],
   "source": []
  }
 ],
 "metadata": {
  "kernelspec": {
   "display_name": "",
   "name": ""
  },
  "language_info": {
   "name": ""
  }
 },
 "nbformat": 4,
 "nbformat_minor": 5
}
